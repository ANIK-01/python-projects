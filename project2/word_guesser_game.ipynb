{
 "cells": [
  {
   "cell_type": "code",
   "execution_count": 1,
   "metadata": {},
   "outputs": [],
   "source": [
    "import random\n",
    "from word_io import word_dict"
   ]
  },
  {
   "cell_type": "code",
   "execution_count": 2,
   "metadata": {},
   "outputs": [],
   "source": [
    "word_dict_keys=list(word_dict.keys())"
   ]
  },
  {
   "cell_type": "code",
   "execution_count": 10,
   "metadata": {},
   "outputs": [],
   "source": [
    "    \n",
    "def jump_to_check(blank_word,guess_choice): \n",
    "    h=blank_word\n",
    "    max_attempt=5\n",
    "\n",
    "    def string_letter_change(idx,string,new_char):\n",
    "\n",
    "        p=0\n",
    "        for i in string:\n",
    "            if p==idx and i=='-':\n",
    "                x=string[:idx]+new_char+string[idx+1:]\n",
    "                return x\n",
    "            p+=1\n",
    "            \n",
    "        return string       \n",
    "                \n",
    "    flag=False\n",
    "    while max_attempt>0:\n",
    "        if h==guess_choice:\n",
    "            flag=True\n",
    "            print(\"Congratulations, you win this round\")\n",
    "            break\n",
    "        \n",
    "        print(f\"you have remaining {max_attempt} attempt.{h}\")\n",
    "        user_input=input(\"Guess a Letter: \")\n",
    "        \n",
    "        if user_input in guess_choice:\n",
    "            c=0\n",
    "            for i in guess_choice:\n",
    "\n",
    "                if i==user_input and h[c]=='-':\n",
    "                    break    \n",
    "                c+=1\n",
    "                \n",
    "\n",
    "            h=string_letter_change(c,h,user_input)\n",
    "        else:\n",
    "            print(\"your guessed letter not present in word\")\n",
    "            max_attempt-=1\n",
    "            \n",
    "    if flag==False:\n",
    "        print(\"Sorry, You lost the round\")\n",
    "    return flag\n",
    "            "
   ]
  },
  {
   "cell_type": "code",
   "execution_count": 11,
   "metadata": {},
   "outputs": [
    {
     "name": "stdout",
     "output_type": "stream",
     "text": [
      "Round: 1\n",
      "please guess the fruits name: -----\n",
      "you have remaining 5 attempt.-----\n",
      "your guessed letter not present in word\n",
      "you have remaining 4 attempt.-----\n",
      "your guessed letter not present in word\n",
      "you have remaining 3 attempt.-----\n",
      "your guessed letter not present in word\n",
      "you have remaining 2 attempt.-----\n",
      "your guessed letter not present in word\n",
      "you have remaining 1 attempt.-----\n",
      "your guessed letter not present in word\n",
      "Sorry, You lost the round\n",
      "Round: 2\n",
      "please guess the animals name: -----\n",
      "you have remaining 5 attempt.-----\n",
      "your guessed letter not present in word\n",
      "you have remaining 4 attempt.-----\n",
      "your guessed letter not present in word\n",
      "you have remaining 3 attempt.-----\n",
      "you have remaining 3 attempt.--b--\n",
      "you have remaining 3 attempt.--br-\n",
      "you have remaining 3 attempt.z-br-\n",
      "you have remaining 3 attempt.zebr-\n",
      "Congratulations, you win this round\n",
      "Thank you for Playing\n",
      "Your FINAL score: 1 / 2\n"
     ]
    }
   ],
   "source": [
    "round=0\n",
    "score=0\n",
    "while True:\n",
    "    round+=1\n",
    "    print(f\"Round: {round}\")\n",
    "    guess_key=random.choice(list(word_dict.keys()))\n",
    "\n",
    "    guess_word=random.choice(word_dict[guess_key])\n",
    "    blank_word=\"\"\n",
    "\n",
    "    for i in guess_word:\n",
    "        if i==\" \":\n",
    "            blank_word+=i\n",
    "        else:\n",
    "            blank_word+=\"-\"\n",
    "    \n",
    "    print(f\"please guess the {guess_key} name: {blank_word}\")\n",
    "\n",
    "    is_win=jump_to_check(blank_word,guess_word)\n",
    "    if is_win==True:\n",
    "        score+=1\n",
    "    another_play=input(\"Want to play another Round [y/n]?\")\n",
    "    if another_play.lower()=='y':\n",
    "        continue\n",
    "    else:\n",
    "        print(\"Thank you for Playing\")\n",
    "        break\n",
    "\n",
    "print(f\"Your FINAL score: {score} / {round}\")"
   ]
  }
 ],
 "metadata": {
  "kernelspec": {
   "display_name": "GPU_env",
   "language": "python",
   "name": "python3"
  },
  "language_info": {
   "codemirror_mode": {
    "name": "ipython",
    "version": 3
   },
   "file_extension": ".py",
   "mimetype": "text/x-python",
   "name": "python",
   "nbconvert_exporter": "python",
   "pygments_lexer": "ipython3",
   "version": "3.12.4"
  }
 },
 "nbformat": 4,
 "nbformat_minor": 2
}
