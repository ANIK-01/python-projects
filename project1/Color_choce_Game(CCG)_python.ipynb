{
 "cells": [
  {
   "cell_type": "code",
   "execution_count": 1,
   "metadata": {
    "id": "VmZoc0Cpz4xI"
   },
   "outputs": [],
   "source": [
    "\n",
    "ccg_dict={\"red\":1, \"green\":2, \"blue\":3, \"orange\":4, \"white\": 5}\n",
    "\n",
    "colors=list(ccg_dict.keys())\n",
    "\n"
   ]
  },
  {
   "cell_type": "code",
   "execution_count": 8,
   "metadata": {
    "id": "R_NdlMY00SEb"
   },
   "outputs": [],
   "source": [
    "import random\n",
    "player_score=0\n",
    "computer_score=0\n",
    "flag=False\n",
    "Round=0\n",
    "\n",
    "def jump():\n",
    "  global player_score, computer_score, flag,Round\n",
    "  user_input = input(\"Enter your color digit code\\n{red: 1, green: 2, blue: 3, orange: 4, white: 5}: \")\n",
    "  \n",
    "  if ord(user_input)>=49 and ord(user_input)<=53:\n",
    "      Round+=1\n",
    "      print(f\"Round: {Round}\")\n",
    "      flag=True\n",
    "      def get_key(val):\n",
    "        for key, value in ccg_dict.items():\n",
    "            if value == val:\n",
    "                return key\n",
    "        return \"Key not found\"\n",
    "\n",
    "     \n",
    "      print(f\"Your choice: {get_key(int(user_input))}\")\n",
    "\n",
    "      computer_choice=random.choice(colors)\n",
    "      print(f\"computer choice: {computer_choice}\")\n",
    "      if user_input==ccg_dict[computer_choice]:\n",
    "        player_score+=1\n",
    "\n",
    "      else:\n",
    "        computer_score+=1\n",
    "  else:\n",
    "      print(\"Enter a Valid COlOR CODE\")\n",
    "      jump()\n",
    "\n",
    "\n"
   ]
  },
  {
   "cell_type": "code",
   "execution_count": 9,
   "metadata": {
    "colab": {
     "base_uri": "https://localhost:8080/",
     "height": 349
    },
    "id": "qPbLhUAD20lZ",
    "outputId": "41f52766-44ed-4af7-fcf4-47c2e74227fe"
   },
   "outputs": [
    {
     "name": "stdout",
     "output_type": "stream",
     "text": [
      "Round: 1\n",
      "Your choice: white\n",
      "computer choice: blue\n",
      "Round: 2\n",
      "Your choice: green\n",
      "computer choice: green\n",
      "provide the correct input [y/n]\n",
      "Enter a Valid COlOR CODE\n",
      "Enter a Valid COlOR CODE\n",
      "Enter a Valid COlOR CODE\n",
      "Round: 3\n",
      "Your choice: red\n",
      "computer choice: green\n",
      "Thank you for playing\n",
      "You LOST and Your score is: 0 & computer score is :3\n"
     ]
    }
   ],
   "source": [
    "player_score=0\n",
    "computer_score=0\n",
    "Round=0\n",
    "def jump2():\n",
    "    while True:\n",
    "      jump()\n",
    "      # print(\"xxxxxxxx\")\n",
    "      def jump3():\n",
    "          ask=input(\"Do You want to play another round y/n?\\n\")\n",
    "        \n",
    "          if ask=='y' or ask=='Y':\n",
    "            return \"y\"\n",
    "          elif ask=='n' or ask=='N':\n",
    "            print(\"Thank you for playing\")\n",
    "            return \"n\"\n",
    "          else:\n",
    "            print(\"provide the correct input [y/n]\")\n",
    "            val=jump3()\n",
    "            if val==\"y\":\n",
    "              return \"y\"\n",
    "            else:\n",
    "              return \"n\"\n",
    "\n",
    "              \n",
    "      val2=jump3()\n",
    "      if val2==\"y\":\n",
    "        continue\n",
    "      else:\n",
    "        break\n",
    "\n",
    "\n",
    "jump2()\n",
    "\n",
    "\n",
    "if flag==True:\n",
    "\n",
    "  if player_score> computer_score:\n",
    "    print(computer_score, player_score)\n",
    "    print(f\"You WON and Your score is: {player_score} & computer score is :{computer_score}\")\n",
    "  elif player_score< computer_score:\n",
    "    print(f\"You LOST and Your score is: {player_score} & computer score is :{computer_score}\")\n",
    "\n",
    "  else:\n",
    "    print(\"The game is Tied\")\n"
   ]
  },
  {
   "cell_type": "code",
   "execution_count": null,
   "metadata": {},
   "outputs": [],
   "source": []
  },
  {
   "cell_type": "markdown",
   "metadata": {},
   "source": [
    "##### "
   ]
  }
 ],
 "metadata": {
  "colab": {
   "provenance": []
  },
  "kernelspec": {
   "display_name": "GPU_env",
   "language": "python",
   "name": "python3"
  },
  "language_info": {
   "codemirror_mode": {
    "name": "ipython",
    "version": 3
   },
   "file_extension": ".py",
   "mimetype": "text/x-python",
   "name": "python",
   "nbconvert_exporter": "python",
   "pygments_lexer": "ipython3",
   "version": "3.12.4"
  }
 },
 "nbformat": 4,
 "nbformat_minor": 4
}
